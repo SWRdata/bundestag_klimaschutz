{
 "cells": [
  {
   "cell_type": "code",
   "execution_count": 1,
   "id": "8099a685-4f79-426f-9f87-4354a97dece9",
   "metadata": {},
   "outputs": [],
   "source": [
    "\"\"\"Scrapes https://www.bundestag.de/services/opendata for all XML Files of the 19th and 20th election period.\"\"\"\n",
    "\n",
    "import requests\n",
    "import re\n",
    "import time\n",
    "import os\n",
    "from bs4 import BeautifulSoup\n",
    "from selenium import webdriver\n",
    "from selenium.webdriver.chrome.options import Options\n",
    "from selenium.webdriver.common.keys import Keys\n",
    "from selenium.webdriver.common.by import By"
   ]
  },
  {
   "cell_type": "code",
   "execution_count": 7,
   "id": "985a9969-e8d2-4f94-adc6-81d1a31901e2",
   "metadata": {
    "tags": []
   },
   "outputs": [],
   "source": [
    "from selenium.webdriver.chrome.options import Options\n",
    "from selenium.webdriver.support.ui import WebDriverWait\n",
    "from selenium.webdriver.support import expected_conditions as EC\n",
    "import xml.sax\n",
    "import pandas as pd\n",
    "\n",
    "chrome_options = webdriver.ChromeOptions()\n",
    "chrome_options.add_argument(\"--profile-directory=Profile2\")\n",
    "chrome_options.add_argument(\"--disable-dev-shm-usage\")\n",
    "chrome_options.add_argument('--incognito')\n",
    "chrome_options.add_argument('--no-sandbox')\n",
    "chrome_options.add_argument(\"--headless\")\n",
    "\n",
    "url_20_wahlprediode = \"https://www.bundestag.de/ajax/filterlist/de/services/opendata/866354-866354?limit=10&noFilterSet=true&offset=20\"\n",
    "url_19_wahlprediode =\"\"\n",
    "\n",
    "url = \"https://www.bundestag.de/services/opendata\"\n",
    "chromedriver = \"/usr/bin/chromedriver\"\n",
    "os.environ[\"webdriver.chrome.driver\"] = chromedriver\n",
    "\n",
    "#driver = webdriver.Chrome(chromedriver, options=chrome_options) #deprecation warning: pass Service object"
   ]
  },
  {
   "cell_type": "code",
   "execution_count": 4,
   "id": "45b0331c-28cb-41a2-8659-8bc8d1edcee0",
   "metadata": {
    "tags": []
   },
   "outputs": [],
   "source": [
    "#driver.get(url)\n",
    "\n",
    "link_list = []\n",
    "\n",
    "# fügt alle gefundenen Links einer Liste hinzu\n",
    "def add_to_link_list():\n",
    "    soup_links = BeautifulSoup(driver.page_source, 'html.parser')\n",
    "    regex = re.compile('.*XML .*')\n",
    "    documents = soup_links.find_all(title=regex)\n",
    "    for i in documents:\n",
    "        link_list.append(i['href'])\n",
    "    \n",
    "#for i in range(26):\n",
    "    #button = WebDriverWait(driver, 3).until(EC.visibility_of_element_located(\n",
    "            #(By.XPATH, \"//button[@type='button'][@class='slick-next slick-arrow']\")))\n",
    "    #driver.execute_script(\"arguments[0].scrollIntoView();\", button)\n",
    "    #driver.execute_script(\"arguments[0].click();\", button)\n",
    "    #time.sleep(2)\n",
    "\n",
    "#add_to_link_list()\n",
    "\n",
    "\n",
    "    "
   ]
  },
  {
   "cell_type": "code",
   "execution_count": 5,
   "id": "7a2d9eb8-227c-4d84-926f-3c84904f68b9",
   "metadata": {},
   "outputs": [
    {
     "name": "stdout",
     "output_type": "stream",
     "text": [
      "['/resource/blob/886606/a8b5974c3cd61a9f56f8a972e8e7ad6f/20025-data.xml', '/resource/blob/887038/062d6bc0522f81a988c24eb8f8ee4aee/20026-data.xml', '/resource/blob/886416/db86cf1a7233a5b3fae2c1ed3e2f7445/20024-data.xml', '/resource/blob/885922/ea6510fa33ceba81a3f39fa67157244a/20023-data.xml', '/resource/blob/885462/560c980be301d6511501f0cc7859bac6/20022-data.xml', '/resource/blob/884900/90d7ed39e77924cd38f6bc4e822db6f3/20021-data.xml', '/resource/blob/884842/d4f8f013accfe01ece070441da787aff/20020-data.xml', '/resource/blob/882434/63345d000dff4dac33355f3669e7eec2/20019-data.xml', '/resource/blob/881806/6b8e6220659315227eb3b1dbdbdf8e76/20018-data.xml', '/resource/blob/881518/ff4f6567e6bb232b483190ae0dd9cd54/20017-data.xml']\n"
     ]
    }
   ],
   "source": [
    "import requests\n",
    "\n",
    "\n",
    "test_url = \"https://www.bundestag.de/ajax/filterlist/de/services/opendata/866354-866354?limit=10&offset=00\"\n",
    "\n",
    "req = requests.get(test_url)\n",
    "soup_links = BeautifulSoup(req.content, 'html.parser')\n",
    "regex = re.compile('.*XML .*')\n",
    "documents = soup_links.find_all(title=regex)\n",
    "for i in documents:\n",
    "    link_list.append(i['href'])\n"
   ]
  },
  {
   "cell_type": "code",
   "execution_count": 6,
   "id": "7317d123-70c9-4048-8625-657f007534ad",
   "metadata": {},
   "outputs": [
    {
     "name": "stdout",
     "output_type": "stream",
     "text": [
      "['https://www.bundestag.de/resource/blob/886606/a8b5974c3cd61a9f56f8a972e8e7ad6f/20025-data.xml', 'https://www.bundestag.de/resource/blob/887038/062d6bc0522f81a988c24eb8f8ee4aee/20026-data.xml', 'https://www.bundestag.de/resource/blob/886416/db86cf1a7233a5b3fae2c1ed3e2f7445/20024-data.xml', 'https://www.bundestag.de/resource/blob/885922/ea6510fa33ceba81a3f39fa67157244a/20023-data.xml', 'https://www.bundestag.de/resource/blob/885462/560c980be301d6511501f0cc7859bac6/20022-data.xml', 'https://www.bundestag.de/resource/blob/884900/90d7ed39e77924cd38f6bc4e822db6f3/20021-data.xml', 'https://www.bundestag.de/resource/blob/884842/d4f8f013accfe01ece070441da787aff/20020-data.xml', 'https://www.bundestag.de/resource/blob/882434/63345d000dff4dac33355f3669e7eec2/20019-data.xml', 'https://www.bundestag.de/resource/blob/881806/6b8e6220659315227eb3b1dbdbdf8e76/20018-data.xml', 'https://www.bundestag.de/resource/blob/881518/ff4f6567e6bb232b483190ae0dd9cd54/20017-data.xml']\n"
     ]
    }
   ],
   "source": [
    "\n",
    "# Liste mit vollständigen URLs\n",
    "url_list = []\n",
    "url_start = 'https://www.bundestag.de'\n",
    "\n",
    "for i in link_list:\n",
    "    url_list.append(url_start + i)\n",
    "    \n",
    "# soup_links = BeautifulSoup(test_url, 'html.parser')\n",
    "    "
   ]
  },
  {
   "cell_type": "code",
   "execution_count": 9,
   "id": "2fdf980e-d6a3-424e-ab43-7691c6cd1e91",
   "metadata": {},
   "outputs": [],
   "source": [
    "# Parser \n",
    "class SpeechHandler (xml.sax.ContentHandler):\n",
    "    \n",
    "    def __init__(self):\n",
    "        self.CurrentData = \"\"\n",
    "        self.p = \"\"\n",
    "        self.tagesordnungspunkt = \"\"\n",
    "        self.vorname = \"\"\n",
    "        self.nachname = \"\"\n",
    "        self.fraktion = \"\"\n",
    "        self.redeID = \"\"\n",
    "        self.startReden = False\n",
    "        \n",
    "\n",
    "    def startElement(self, tag, attributes):\n",
    "\n",
    "        self.CurrentData = tag\n",
    "        if tag == \"rede\":\n",
    "            self.redeID = attributes['id']\n",
    "            self.startReden = True\n",
    "            self.p = \"\"\n",
    "    \n",
    "    def endElement(self,tag):\n",
    "        self.CurrentData = tag\n",
    "        if self.CurrentData == 'rede':\n",
    "            store.loc[len(store.index)] = [ self.redeID, self.vorname, self.nachname, self.fraktion, self.p]\n",
    "            self.p = \"\"\n",
    "            self.fraktion = \"\"\n",
    "            self.vorname = \"\"\n",
    "            self.nachname = \"\"\n",
    "    \n",
    "    def characters (self, content):\n",
    "\n",
    "        if self.CurrentData == \"p\":\n",
    "            self.p = self.p + content\n",
    "        elif self.CurrentData == \"vorname\" and self.startReden:\n",
    "            self.vorname = self.vorname + content\n",
    "        elif self.CurrentData == \"nachname\" and self.startReden:\n",
    "            self.nachname = self.nachname + content\n",
    "        elif self.CurrentData == \"fraktion\" and self.startReden:\n",
    "            self.fraktion = self.fraktion + content"
   ]
  },
  {
   "cell_type": "code",
   "execution_count": 16,
   "id": "7746c1d3-e8dc-460b-b785-e21d867512f0",
   "metadata": {},
   "outputs": [],
   "source": [
    "# parsing\n",
    "count = 1\n",
    "for url in url_list:\n",
    "    # hier kann man jetzt alle Files einzeln parsen\n",
    "    file = url\n",
    "    store = pd.DataFrame({ 'redeID': [''], 'vorname': [''], 'nachname' : [''], 'fraktion': [''], 'inhalt' : ['']})\n",
    "    parser  = xml.sax.make_parser()\n",
    "    Handler = SpeechHandler()\n",
    "    parser.setContentHandler(Handler)\n",
    "    parser.parse(file)\n",
    "    store.to_csv('bundestag ' + str(count) + '.csv')\n",
    "    count = count + 1"
   ]
  },
  {
   "cell_type": "code",
   "execution_count": 13,
   "id": "9b1f54f7-3133-4037-870d-357760fabd68",
   "metadata": {},
   "outputs": [],
   "source": [
    "driver.quit()"
   ]
  }
 ],
 "metadata": {
  "kernelspec": {
   "display_name": "Python 3 (ipykernel)",
   "language": "python",
   "name": "python3"
  },
  "language_info": {
   "codemirror_mode": {
    "name": "ipython",
    "version": 3
   },
   "file_extension": ".py",
   "mimetype": "text/x-python",
   "name": "python",
   "nbconvert_exporter": "python",
   "pygments_lexer": "ipython3",
   "version": "3.9.7"
  }
 },
 "nbformat": 4,
 "nbformat_minor": 5
}
