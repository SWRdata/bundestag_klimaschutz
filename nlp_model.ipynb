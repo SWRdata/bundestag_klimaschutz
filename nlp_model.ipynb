{
 "cells": [
  {
   "cell_type": "code",
   "execution_count": 3,
   "id": "8099a685-4f79-426f-9f87-4354a97dece9",
   "metadata": {},
   "outputs": [],
   "source": [
    "\"\"\"Scrapes https://www.bundestag.de/services/opendata for all XML Files of the 19th and 20th election period.\"\"\"\n",
    "\n",
    "import requests\n",
    "import re\n",
    "import time\n",
    "from bs4 import BeautifulSoup\n",
    "from selenium import webdriver\n",
    "from selenium.webdriver.chrome.options import Options\n",
    "from selenium.webdriver.common.keys import Keys\n",
    "from selenium.webdriver.common.by import By"
   ]
  },
  {
   "cell_type": "code",
   "execution_count": 4,
   "id": "0878b7f8-4309-4dae-9ea0-ef081f114a1b",
   "metadata": {},
   "outputs": [
    {
     "name": "stderr",
     "output_type": "stream",
     "text": [
      "/tmp/ipykernel_24488/574189115.py:8: DeprecationWarning: executable_path has been deprecated, please pass in a Service object\n",
      "  driver = webdriver.Chrome(chromedriver, options=chrome_options)\n"
     ]
    }
   ],
   "source": [
    "from selenium.webdriver.chrome.options import Options\n",
    "\n",
    "chrome_options = Options()\n",
    "chrome_options.add_argument(\"--headless\")\n",
    "\n",
    "url = \"https://www.bundestag.de/services/opendata\"\n",
    "chromedriver = \"/usr/bin/chromedriver\"\n",
    "driver = webdriver.Chrome(chromedriver, options=chrome_options) #deprecation warning: pass Service object\n",
    "driver.get(url)\n",
    "\n",
    "link_list = []\n",
    "\n",
    "# fügt alle gefundenen Links einer Liste hinzu\n",
    "def add_to_link_list():\n",
    "    soup_links = BeautifulSoup(driver.page_source, 'html.parser')\n",
    "    regex = re.compile('.*XML .*')\n",
    "    documents = soup_links.find_all(title=regex)\n",
    "    for i in documents:\n",
    "        link_list.append(i['href'])\n",
    "    \n",
    "for i in range(24):\n",
    "    button = driver.find_element(By.XPATH, \"//button[@type='button'][@class='slick-next slick-arrow']\")\n",
    "    driver.execute_script(\"arguments[0].scrollIntoView();\", button)\n",
    "    driver.execute_script(\"arguments[0].click();\", button)\n",
    "    time.sleep(2)\n",
    "\n",
    "add_to_link_list()\n",
    "\n",
    "# Liste mit vollständigen URLs\n",
    "url_list = []\n",
    "url_start = 'https://www.bundestag.de'\n",
    "\n",
    "for i in link_list:\n",
    "    url_list.append(url_start + i)"
   ]
  },
  {
   "cell_type": "code",
   "execution_count": null,
   "id": "7746c1d3-e8dc-460b-b785-e21d867512f0",
   "metadata": {},
   "outputs": [],
   "source": [
    "# parsing\n",
    "\n",
    "for url in url_list:\n",
    "    # hier kann man jetzt alle Files einzeln parsen"
   ]
  }
 ],
 "metadata": {
  "kernelspec": {
   "display_name": "Python 3 (ipykernel)",
   "language": "python",
   "name": "python3"
  },
  "language_info": {
   "codemirror_mode": {
    "name": "ipython",
    "version": 3
   },
   "file_extension": ".py",
   "mimetype": "text/x-python",
   "name": "python",
   "nbconvert_exporter": "python",
   "pygments_lexer": "ipython3",
   "version": "3.9.7"
  }
 },
 "nbformat": 4,
 "nbformat_minor": 5
}
