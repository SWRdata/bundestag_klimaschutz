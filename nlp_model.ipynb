{
 "cells": [
  {
   "cell_type": "code",
   "execution_count": 5,
   "id": "8099a685-4f79-426f-9f87-4354a97dece9",
   "metadata": {},
   "outputs": [],
   "source": [
    "\"\"\"Scrapes https://www.bundestag.de/services/opendata for all XML Files of the 19th and 20th election period.\"\"\"\n",
    "\n",
    "import requests\n",
    "import re\n",
    "import time\n",
    "import os\n",
    "from bs4 import BeautifulSoup\n",
    "from selenium import webdriver\n",
    "from selenium.webdriver.chrome.options import Options\n",
    "from selenium.webdriver.common.keys import Keys\n",
    "from selenium.webdriver.common.by import By"
   ]
  },
  {
   "cell_type": "code",
   "execution_count": 14,
   "id": "985a9969-e8d2-4f94-adc6-81d1a31901e2",
   "metadata": {
    "tags": []
   },
   "outputs": [
    {
     "name": "stderr",
     "output_type": "stream",
     "text": [
      "/tmp/ipykernel_13920/2117835621.py:17: DeprecationWarning: executable_path has been deprecated, please pass in a Service object\n",
      "  driver = webdriver.Chrome(chromedriver, options=chrome_options) #deprecation warning: pass Service object\n"
     ]
    }
   ],
   "source": [
    "from selenium.webdriver.chrome.options import Options\n",
    "from selenium.webdriver.support.ui import WebDriverWait\n",
    "from selenium.webdriver.support import expected_conditions as EC\n",
    "\n",
    "chrome_options = webdriver.ChromeOptions()\n",
    "chrome_options.add_argument(\"--profile-directory=Profile2\")\n",
    "chrome_options.add_argument(\"--disable-dev-shm-usage\")\n",
    "chrome_options.add_argument('--incognito')\n",
    "chrome_options.add_argument('--no-sandbox')\n",
    "chrome_options.add_argument(\"--headless\")\n",
    "\n",
    "url_20_wahlprediode = \"https://www.bundestag.de/ajax/filterlist/de/services/opendata/866354-866354?limit=10&noFilterSet=true&offset=20\"\n",
    "url_19_wahlprediode =\n",
    "\n",
    "url = \"https://www.bundestag.de/services/opendata\"\n",
    "chromedriver = \"/usr/bin/chromedriver\"\n",
    "os.environ[\"webdriver.chrome.driver\"] = chromedriver\n",
    "\n",
    "driver = webdriver.Chrome(chromedriver, options=chrome_options) #deprecation warning: pass Service object"
   ]
  },
  {
   "cell_type": "code",
   "execution_count": 7,
   "id": "45b0331c-28cb-41a2-8659-8bc8d1edcee0",
   "metadata": {
    "tags": []
   },
   "outputs": [],
   "source": [
    "driver.get(url)\n",
    "\n",
    "link_list = []\n",
    "\n",
    "# fügt alle gefundenen Links einer Liste hinzu\n",
    "def add_to_link_list():\n",
    "    soup_links = BeautifulSoup(driver.page_source, 'html.parser')\n",
    "    regex = re.compile('.*XML .*')\n",
    "    documents = soup_links.find_all(title=regex)\n",
    "    for i in documents:\n",
    "        link_list.append(i['href'])\n",
    "    \n",
    "for i in range(26):\n",
    "    button = WebDriverWait(driver, 3).until(EC.visibility_of_element_located(\n",
    "            (By.XPATH, \"//button[@type='button'][@class='slick-next slick-arrow']\")))\n",
    "    driver.execute_script(\"arguments[0].scrollIntoView();\", button)\n",
    "    driver.execute_script(\"arguments[0].click();\", button)\n",
    "    time.sleep(2)\n",
    "\n",
    "add_to_link_list()\n",
    "\n",
    "# Liste mit vollständigen URLs\n",
    "url_list = []\n",
    "url_start = 'https://www.bundestag.de'\n",
    "\n",
    "for i in link_list:\n",
    "    url_list.append(url_start + i)\n",
    "    "
   ]
  },
  {
   "cell_type": "code",
   "execution_count": 22,
   "id": "7a2d9eb8-227c-4d84-926f-3c84904f68b9",
   "metadata": {},
   "outputs": [],
   "source": [
    "import requests\n",
    "\n",
    "test_url = \"https://www.bundestag.de/ajax/filterlist/de/services/opendata/866354-866354?limit=10&offset=00\"\n",
    "req = requests.get(test_url)\n",
    "soup_links = BeautifulSoup(req.content, 'html.parser')"
   ]
  },
  {
   "cell_type": "code",
   "execution_count": 23,
   "id": "05b24260-cb6a-4550-bf5a-c935e3baf4a3",
   "metadata": {},
   "outputs": [
    {
     "data": {
      "text/plain": [
       "[<a class=\"bt-link-dokument\" href=\"/resource/blob/886606/a8b5974c3cd61a9f56f8a972e8e7ad6f/20025-data.xml\" target=\"_blank\" title=\"XML | 932 KB\">  XML | 932 KB</a>,\n",
       " <a class=\"bt-link-dokument\" href=\"/resource/blob/887038/062d6bc0522f81a988c24eb8f8ee4aee/20026-data.xml\" target=\"_blank\" title=\"XML | 485 KB\">  XML | 485 KB</a>,\n",
       " <a class=\"bt-link-dokument\" href=\"/resource/blob/886416/db86cf1a7233a5b3fae2c1ed3e2f7445/20024-data.xml\" target=\"_blank\" title=\"XML | 695 KB\">  XML | 695 KB</a>,\n",
       " <a class=\"bt-link-dokument\" href=\"/resource/blob/885922/ea6510fa33ceba81a3f39fa67157244a/20023-data.xml\" target=\"_blank\" title=\"XML | 593 KB\">  XML | 593 KB</a>,\n",
       " <a class=\"bt-link-dokument\" href=\"/resource/blob/885462/560c980be301d6511501f0cc7859bac6/20022-data.xml\" target=\"_blank\" title=\"XML | 839 KB\">  XML | 839 KB</a>,\n",
       " <a class=\"bt-link-dokument\" href=\"/resource/blob/884900/90d7ed39e77924cd38f6bc4e822db6f3/20021-data.xml\" target=\"_blank\" title=\"XML | 1 MB\">  XML | 1 MB</a>,\n",
       " <a class=\"bt-link-dokument\" href=\"/resource/blob/884842/d4f8f013accfe01ece070441da787aff/20020-data.xml\" target=\"_blank\" title=\"XML | 812 KB\">  XML | 812 KB</a>,\n",
       " <a class=\"bt-link-dokument\" href=\"/resource/blob/882434/63345d000dff4dac33355f3669e7eec2/20019-data.xml\" target=\"_blank\" title=\"XML | 247 KB\">  XML | 247 KB</a>,\n",
       " <a class=\"bt-link-dokument\" href=\"/resource/blob/881806/6b8e6220659315227eb3b1dbdbdf8e76/20018-data.xml\" target=\"_blank\" title=\"XML | 610 KB\">  XML | 610 KB</a>,\n",
       " <a class=\"bt-link-dokument\" href=\"/resource/blob/881518/ff4f6567e6bb232b483190ae0dd9cd54/20017-data.xml\" target=\"_blank\" title=\"XML | 1 MB\">  XML | 1 MB</a>]"
      ]
     },
     "execution_count": 23,
     "metadata": {},
     "output_type": "execute_result"
    }
   ],
   "source": [
    "regex = re.compile('.*XML .*')\n",
    "documents = soup_links.find_all(title=regex)"
   ]
  },
  {
   "cell_type": "code",
   "execution_count": 27,
   "id": "7317d123-70c9-4048-8625-657f007534ad",
   "metadata": {},
   "outputs": [],
   "source": [
    "for i in documents:\n",
    "    link_list.append(i['href'])\n",
    "\n",
    "# soup_links = BeautifulSoup(test_url, 'html.parser')\n",
    "    "
   ]
  },
  {
   "cell_type": "code",
   "execution_count": null,
   "id": "2a2436e4-44db-448d-8380-4f59c0dc4fb6",
   "metadata": {},
   "outputs": [],
   "source": [
    "regex = re.compile('.*XML .*')\n",
    "    documents = soup_links.find_all(title=regex)\n",
    "    for i in documents:\n",
    "        link_list.append(i['href'])"
   ]
  },
  {
   "cell_type": "code",
   "execution_count": null,
   "id": "7746c1d3-e8dc-460b-b785-e21d867512f0",
   "metadata": {},
   "outputs": [],
   "source": [
    "# parsing\n",
    "\n",
    "for url in url_list:\n",
    "    # hier kann man jetzt alle Files einzeln parsen"
   ]
  },
  {
   "cell_type": "code",
   "execution_count": 13,
   "id": "9b1f54f7-3133-4037-870d-357760fabd68",
   "metadata": {},
   "outputs": [],
   "source": [
    "driver.quit()"
   ]
  }
 ],
 "metadata": {
  "kernelspec": {
   "display_name": "Python 3 (ipykernel)",
   "language": "python",
   "name": "python3"
  },
  "language_info": {
   "codemirror_mode": {
    "name": "ipython",
    "version": 3
   },
   "file_extension": ".py",
   "mimetype": "text/x-python",
   "name": "python",
   "nbconvert_exporter": "python",
   "pygments_lexer": "ipython3",
   "version": "3.9.7"
  }
 },
 "nbformat": 4,
 "nbformat_minor": 5
}
