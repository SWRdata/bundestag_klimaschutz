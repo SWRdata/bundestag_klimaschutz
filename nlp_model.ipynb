{
 "cells": [
  {
   "cell_type": "code",
   "execution_count": 2,
   "id": "bacc20a7-d0b2-418e-b435-79f18b031a34",
   "metadata": {},
   "outputs": [],
   "source": [
    "import pandas as pd\n",
    "import glob\n",
    "import os\n",
    "\n",
    "# Dataframe zur Analyse\n",
    "os.chdir = '/bundestag_klimaschutz/'\n",
    "all_files = glob.glob(\"*.csv\")\n",
    "\n",
    "file_list = []\n",
    "\n",
    "for filename in all_files:\n",
    "    df = pd.read_csv(filename, index_col=None, header=0)\n",
    "    file_list.append(df)\n",
    "\n",
    "df = pd.concat(file_list, axis=0, ignore_index=True)"
   ]
  },
  {
   "cell_type": "code",
   "execution_count": 3,
   "id": "1a2b5103-0fae-4b8e-9d01-2d2ee50acc7b",
   "metadata": {},
   "outputs": [],
   "source": [
    "df.drop('Jens Ackermann;\"FDP\";1975;\"Sachsen-Anhalt\";;\"2. Juli 1975\";\"http://www.jens-ackermann.info\";\"jens.ackermann@bundestag.de\"', axis=1, inplace=True)"
   ]
  },
  {
   "cell_type": "code",
   "execution_count": 4,
   "id": "56c31f86-d3c9-4a6e-8930-2289af1cbf32",
   "metadata": {},
   "outputs": [],
   "source": [
    "df.drop(df.index[:1], inplace=True)"
   ]
  }
 ],
 "metadata": {
  "kernelspec": {
   "display_name": "Python 3 (ipykernel)",
   "language": "python",
   "name": "python3"
  },
  "language_info": {
   "codemirror_mode": {
    "name": "ipython",
    "version": 3
   },
   "file_extension": ".py",
   "mimetype": "text/x-python",
   "name": "python",
   "nbconvert_exporter": "python",
   "pygments_lexer": "ipython3",
   "version": "3.9.7"
  }
 },
 "nbformat": 4,
 "nbformat_minor": 5
}
