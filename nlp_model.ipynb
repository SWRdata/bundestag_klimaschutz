{
 "cells": [
  {
   "cell_type": "code",
   "execution_count": 1,
   "id": "bacc20a7-d0b2-418e-b435-79f18b031a34",
   "metadata": {},
   "outputs": [],
   "source": [
    "import pandas as pd\n",
    "import glob\n",
    "import os\n",
    "\n",
    "# Dataframe zur Analyse\n",
    "os.chdir = '/bundestag_klimaschutz/'\n",
    "all_files = glob.glob(\"*.csv\")\n",
    "\n",
    "file_list = []\n",
    "\n",
    "for filename in all_files:\n",
    "    df = pd.read_csv(filename, index_col=None, header=0)\n",
    "    file_list.append(df)\n",
    "\n",
    "df = pd.concat(file_list, axis=0, ignore_index=True)"
   ]
  },
  {
   "cell_type": "code",
   "execution_count": 2,
   "id": "1a2b5103-0fae-4b8e-9d01-2d2ee50acc7b",
   "metadata": {
    "tags": []
   },
   "outputs": [],
   "source": [
    "df.drop('Jens Ackermann;\"FDP\";1975;\"Sachsen-Anhalt\";;\"2. Juli 1975\";\"http://www.jens-ackermann.info\";\"jens.ackermann@bundestag.de\"', axis=1, inplace=True)\n",
    "df.drop('Unnamed: 0', axis=1, inplace=True)\n",
    "df.drop(df.index[:1], inplace=True)"
   ]
  },
  {
   "cell_type": "code",
   "execution_count": 3,
   "id": "96aaae6c-e442-4139-a90c-2b3fd0427401",
   "metadata": {
    "tags": []
   },
   "outputs": [],
   "source": [
    "import re\n",
    "\n",
    "# Fakten zum Datensatz\n",
    "anzahl_sitzungen = len(all_files)\n",
    "anzahl_reden = len(df.index)\n",
    "\n",
    "# anzahl wörter (alle Wörter)\n",
    "df_new = df[df['inhalt_neu'].notnull()]\n",
    "\n",
    "def count_words(speech):\n",
    "    words = speech.split()\n",
    "    word_count = len(words)\n",
    "    return word_count\n",
    "\n",
    "dfc = df_new.copy()\n",
    "dfc['word_count'] = dfc.apply(lambda row: count_words(row['inhalt_neu']), axis=1)\n",
    "\n",
    "words_total = dfc['word_count'].sum()\n",
    "\n",
    "# Anzahl des Wortes \"Klimawandel\"\n",
    "def count_climate(speech):\n",
    "    words = speech.split()\n",
    "    string = ''.join(words)\n",
    "    string = str(string)\n",
    "    result = re.findall(\"klimawandel\", string)\n",
    "    return len(result)\n",
    "\n",
    "def count_any_climate(speech):\n",
    "    words = speech.split()\n",
    "    string = ''.join(words)\n",
    "    string = str(string)\n",
    "    result = re.findall(\"^klima\", string) #noch genauer suchen\n",
    "    return len(result)\n",
    "\n",
    "def count_klimahysterie(speech):\n",
    "    words = speech.split()\n",
    "    string = ''.join(words)\n",
    "    string = str(string)\n",
    "    result = re.findall(\"klimahysterie\", string)\n",
    "    return len(result)\n",
    "\n",
    "\n",
    "dfc['Anzahl Klimawandel'] = dfc.apply(lambda row: count_climate(row['inhalt_neu']), axis=1)\n",
    "dfc['Anzahl Klimahysterie'] = dfc.apply(lambda row: count_klimahysterie(row['inhalt_neu']), axis=1) \n",
    "\n",
    "climate_total = dfc['Anzahl Klimawandel'].sum() \n",
    "klimahysterie_total = dfc['Anzahl Klimahysterie'].sum()\n",
    "\n",
    "def count_any_climate(speech):\n",
    "    words = speech.split()\n",
    "    string = ''.join(words)\n",
    "    string = str(string)\n",
    "    result = re.findall(\"klima\", string) #noch genauer suchen\n",
    "    return len(result)\n",
    "  \n",
    "dfc['Anzahl Klima'] = dfc.apply(lambda row: count_any_climate(row['inhalt_neu']), axis=1) \n",
    "any_climate_total = dfc['Anzahl Klima'].sum()"
   ]
  },
  {
   "cell_type": "code",
   "execution_count": 4,
   "id": "0619c44c-c0d5-46d3-a599-2d410e06a24d",
   "metadata": {},
   "outputs": [],
   "source": [
    "n2_df = dfc.loc[dfc['Anzahl Klimahysterie'] != 0]"
   ]
  },
  {
   "cell_type": "code",
   "execution_count": 5,
   "id": "8c240416-cef2-4fd4-a040-ecc679382f02",
   "metadata": {},
   "outputs": [],
   "source": [
    "import numpy as np\n",
    "\n",
    "n3_df = dfc.loc[dfc['Anzahl Klima'] != 0]\n",
    "len(n3_df.index)\n",
    "\n",
    "spd_counter = cdu_counter = fdp_counter = linke_counter = afd_counter = grüne_counter = fraktionslos_counter = 0 \n",
    "parties_list = [spd_counter, cdu_counter, fdp_counter, linke_counter, afd_counter, grüne_counter, fraktionslos_counter]\n",
    "\n",
    "def count_parties(party, my_list): \n",
    "    if party == \"SPD\":\n",
    "        my_list[0] +=1\n",
    "        return my_list\n",
    "    elif party == \"CDU/CSU\":\n",
    "        my_list[1] +=1\n",
    "        return my_list\n",
    "    elif party == \"FDP\":\n",
    "        my_list[2] +=1\n",
    "        return my_list\n",
    "    elif party == \"DIE LINKE\":\n",
    "        my_list[3] +=1\n",
    "        return my_list\n",
    "    elif party == \"AfD\":\n",
    "        my_list[4] +=1\n",
    "        return my_list\n",
    "    elif bool(re.search(\"DIE GRÜNEN\", str(party))) == True: \n",
    "        my_list[5] +=1\n",
    "        return my_list\n",
    "    elif party == 'fraktionslos' or party == 'Fraktionslos':\n",
    "        my_list[6] +=1\n",
    "        return my_list\n",
    "    return\n",
    "\n",
    "\n",
    "result = n3_df.apply(lambda row: count_parties(row['fraktion'], parties_list), axis=1)"
   ]
  },
  {
   "cell_type": "code",
   "execution_count": 6,
   "id": "75854f51-9924-40f1-8133-c89ee046943c",
   "metadata": {},
   "outputs": [],
   "source": [
    "n4_df = dfc.loc[dfc['Anzahl Klimawandel'] != 0]\n",
    "len(n4_df.index)\n",
    "\n",
    "spd_counter = cdu_counter = fdp_counter = linke_counter = afd_counter = grüne_counter = fraktionslos_counter = 0 \n",
    "parties_list = [spd_counter, cdu_counter, fdp_counter, linke_counter, afd_counter, grüne_counter, fraktionslos_counter]\n",
    "\n",
    "result2 = n4_df.apply(lambda row: count_parties(row['fraktion'], parties_list), axis=1)"
   ]
  },
  {
   "cell_type": "code",
   "execution_count": null,
   "id": "4542c085-56f8-4430-b8f0-75f6ec98e0db",
   "metadata": {},
   "outputs": [],
   "source": [
    "import matplotlib.pyplot as plt\n",
    "import seaborn as sns\n",
    "%matplotlib inline\n",
    "\"\"\"\n",
    "\n",
    "fig, ax = plt.subplots(figsize = (25,17))    \n",
    "fig = sns.barplot(x = \"datum\", y = \"Anzahl Klima\", data = dfc, \n",
    "                  estimator = sum, ci = None, ax=ax)\n",
    "\n",
    "x_dates = pd.to_datetime(dfc['datum'], dayfirst=True).sort_values().unique()\n",
    "ax.set_xticklabels(labels=x_dates, rotation=45, ha='right')\n",
    "\n",
    "\"\"\""
   ]
  }
 ],
 "metadata": {
  "kernelspec": {
   "display_name": "Python 3 (ipykernel)",
   "language": "python",
   "name": "python3"
  },
  "language_info": {
   "codemirror_mode": {
    "name": "ipython",
    "version": 3
   },
   "file_extension": ".py",
   "mimetype": "text/x-python",
   "name": "python",
   "nbconvert_exporter": "python",
   "pygments_lexer": "ipython3",
   "version": "3.9.7"
  }
 },
 "nbformat": 4,
 "nbformat_minor": 5
}
