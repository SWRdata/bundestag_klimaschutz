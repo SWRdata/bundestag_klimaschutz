{
 "cells": [
  {
   "cell_type": "code",
   "execution_count": 1,
   "id": "8099a685-4f79-426f-9f87-4354a97dece9",
   "metadata": {},
   "outputs": [
    {
     "name": "stdout",
     "output_type": "stream",
     "text": [
      "200\n"
     ]
    }
   ],
   "source": [
    "\"\"\"Downloads XML files from the Bundestag API, starting from the Merkel IV period (2017).\"\"\"\n",
    "\n",
    "import requests\n",
    "\n",
    "API_KEY = \"yyYKvVp.XtikEvPb5uU6PrWQHnqCU5lJLQY2rPOKF9\" #sowas gehört eigentlich in eine separate file\n",
    "\n",
    "ressourcentyp = \"plenarprotokoll-text\" #@Anni, falls das der falsche Ressourcentyp ist, kannst du es hier ändern\n",
    "datum_start = \"2017-10-26\"\n",
    "datum_end = \"2022-03-01\"\n",
    "\n",
    "api_call_xml = f\"https://search.dip.bundestag.de/api/v1/{ressourcentyp}/?f.datum.start={datum_start}&f.datum.end={datum_end}&apikey={API_KEY}&format=xml\"\n",
    "data_xml = requests.get(api_call_xml)\n",
    "print(data_xml.status_code)"
   ]
  },
  {
   "cell_type": "code",
   "execution_count": 10,
   "id": "d7881faa-7f40-4f46-a8f4-261518af9a27",
   "metadata": {
    "tags": []
   },
   "outputs": [
    {
     "name": "stdout",
     "output_type": "stream",
     "text": [
      "317\n"
     ]
    }
   ],
   "source": [
    "\"\"\" Variante mit dem Python Wrapper \"BundestagsAPy\". Den installiert man via pip install git+https://github.com/parobo/BundestagsAPy (global kann das nur Kiril/ Nico?).\"\"\"\n",
    "\n",
    "import BundestagsAPy\n",
    "client = BundestagsAPy.Client(API_KEY)\n",
    "results = client.bt_plenarprotokoll_text(max_results=False, start_date=\"2017-10-26\", end_date=\"2022-03-01\")\n",
    "print(len(results))"
   ]
  }
 ],
 "metadata": {
  "kernelspec": {
   "display_name": "Python 3 (ipykernel)",
   "language": "python",
   "name": "python3"
  },
  "language_info": {
   "codemirror_mode": {
    "name": "ipython",
    "version": 3
   },
   "file_extension": ".py",
   "mimetype": "text/x-python",
   "name": "python",
   "nbconvert_exporter": "python",
   "pygments_lexer": "ipython3",
   "version": "3.9.7"
  }
 },
 "nbformat": 4,
 "nbformat_minor": 5
}
