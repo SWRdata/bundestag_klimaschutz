{
 "cells": [
  {
   "cell_type": "code",
   "execution_count": null,
   "id": "3d556fba-49a5-43a1-8fc7-2a691a86eb90",
   "metadata": {},
   "outputs": [],
   "source": [
    "\"\"\" Narrativ-Analyse von Lobbygruppen und deren Einfluss auf Bundestagsreden.\"\"\""
   ]
  }
 ],
 "metadata": {
  "kernelspec": {
   "display_name": "Python 3 (ipykernel)",
   "language": "python",
   "name": "python3"
  },
  "language_info": {
   "codemirror_mode": {
    "name": "ipython",
    "version": 3
   },
   "file_extension": ".py",
   "mimetype": "text/x-python",
   "name": "python",
   "nbconvert_exporter": "python",
   "pygments_lexer": "ipython3",
   "version": "3.9.7"
  }
 },
 "nbformat": 4,
 "nbformat_minor": 5
}
