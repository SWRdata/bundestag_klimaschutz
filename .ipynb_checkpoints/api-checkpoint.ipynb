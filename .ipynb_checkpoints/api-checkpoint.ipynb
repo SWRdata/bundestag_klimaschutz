{
 "cells": [
  {
   "cell_type": "code",
   "execution_count": 1,
   "id": "7ade86de-8299-406b-9e72-d26fac06caf7",
   "metadata": {},
   "outputs": [
    {
     "name": "stdout",
     "output_type": "stream",
     "text": [
      "200\n"
     ]
    }
   ],
   "source": [
    "import requests\n",
    "API_KEY = \"yyYKvVp.XtikEvPb5uU6PrWQHnqCU5lJLQY2rPOKF9\"\n",
    "\n",
    "ressourcentyp = \"plenarprotokoll-text\"\n",
    "api_call_url_xml = f\"https://search.dip.bundestag.de/api/v1/{ressourcentyp}/?f.datum.start=2017-10-24&f.datum.end=2022-03-07&apikey={API_KEY}&format=xml\"\n",
    "\n",
    "data_xml = requests.get(api_call_url_xml)\n",
    "print(data_xml.status_code)"
   ]
  }
 ],
 "metadata": {
  "kernelspec": {
   "display_name": "Python 3 (ipykernel)",
   "language": "python",
   "name": "python3"
  },
  "language_info": {
   "codemirror_mode": {
    "name": "ipython",
    "version": 3
   },
   "file_extension": ".py",
   "mimetype": "text/x-python",
   "name": "python",
   "nbconvert_exporter": "python",
   "pygments_lexer": "ipython3",
   "version": "3.9.7"
  }
 },
 "nbformat": 4,
 "nbformat_minor": 5
}
